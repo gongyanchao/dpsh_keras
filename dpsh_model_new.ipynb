{
 "cells": [
  {
   "cell_type": "code",
   "execution_count": 67,
   "metadata": {
    "collapsed": true
   },
   "outputs": [],
   "source": [
    "import keras\n",
    "import tensorflow as tf"
   ]
  },
  {
   "cell_type": "code",
   "execution_count": 68,
   "metadata": {
    "collapsed": true
   },
   "outputs": [],
   "source": [
    "#import keras backend for custom loss definition\n",
    "import keras.backend as K"
   ]
  },
  {
   "cell_type": "code",
   "execution_count": 69,
   "metadata": {
    "collapsed": true
   },
   "outputs": [],
   "source": [
    "#layers import\n",
    "from keras.layers import Input\n",
    "from keras.layers import Conv1D, Conv2D, Dense, Flatten, Reshape, Dropout\n",
    "from keras.layers import pooling\n",
    "from keras.layers.merge import concatenate\n",
    "from keras.layers import Activation"
   ]
  },
  {
   "cell_type": "code",
   "execution_count": 70,
   "metadata": {
    "collapsed": true
   },
   "outputs": [],
   "source": [
    "#optimizers\n",
    "from keras.optimizers import adam"
   ]
  },
  {
   "cell_type": "code",
   "execution_count": 71,
   "metadata": {
    "collapsed": true
   },
   "outputs": [],
   "source": [
    "#initilizers\n",
    "from keras.initializers import RandomNormal"
   ]
  },
  {
   "cell_type": "code",
   "execution_count": 72,
   "metadata": {
    "collapsed": true
   },
   "outputs": [],
   "source": [
    "# callbacks\n",
    "from keras.callbacks import EarlyStopping, ModelCheckpoint, TensorBoard"
   ]
  },
  {
   "cell_type": "code",
   "execution_count": 73,
   "metadata": {
    "collapsed": true
   },
   "outputs": [],
   "source": [
    "#metrics \n",
    "from keras import metrics"
   ]
  },
  {
   "cell_type": "code",
   "execution_count": 74,
   "metadata": {
    "collapsed": true
   },
   "outputs": [],
   "source": [
    "#functional api model\n",
    "from keras.models import Model"
   ]
  },
  {
   "cell_type": "code",
   "execution_count": 75,
   "metadata": {
    "collapsed": true
   },
   "outputs": [],
   "source": [
    "#pretrained models for a try\n",
    "from keras.applications.vgg16 import VGG16\n",
    "from keras.applications.resnet50 import ResNet50\n",
    "from keras.applications.inception_v3 import InceptionV3"
   ]
  },
  {
   "cell_type": "code",
   "execution_count": 76,
   "metadata": {
    "collapsed": true
   },
   "outputs": [],
   "source": [
    "class Dpsh_model():\n",
    "    def __init__(self, hash_length, regularization, cnn_model, include_top=True, input_shape=None):\n",
    "        '''\n",
    "        hash_length: the expected hash bit length. usually 24 or 48\n",
    "        regularization: the term used in the loss in the paper. Seems 10-100 is good.\n",
    "        cnn_model: the cnn_model instance used as feature extractor, can be ResNet50, VGG16, InceptionV3\n",
    "        input_shape: the shape of input image like (224,224,3)\n",
    "        '''\n",
    "        self.cnn_model = cnn_model(include_top=include_top,input_shape=(224,224,3))\n",
    "        \n",
    "        # input layer\n",
    "        self.input = Input(shape=input_shape, name='image')\n",
    "        \n",
    "        self.feature = self.cnn_model(self.input)\n",
    "        \n",
    "        # if the cnn model is only conv layers, we add one dense layer. and use reshape to make sure it is [batch size, ?]\n",
    "        if include_top == False:\n",
    "            dense_layer = Dense(4096, activation='relu')\n",
    "            dropout = Dropout(0.3)\n",
    "            self.feature = dropout(dense_layer(self.feature))\n",
    "            #self.feature = dropout(dense_layer(self.feature))\n",
    "            self.feature = Reshape((-1,))(self.feature)\n",
    "        \n",
    "        # hash function layer. \n",
    "        hash_layer = Dense(hash_length,kernel_initializer=RandomNormal(mean=0, stddev=0.01), name='hash_map')\n",
    "        self.hash = hash_layer(self.feature)\n",
    "       \n",
    "       # loss func define\n",
    "        def loss_func(labels,predicted):\n",
    "            #labels is in (batch_size, n_class), predicted is (batch_size, bits)\n",
    "            '''\n",
    "            theta = tf.mul(1.0 / 2, tf.matmul(U0, tf.transpose(Ux)))\n",
    "                B_code = tf.sign(U0)\n",
    "            loss = tf.div(\n",
    "                    (- 2.0 * tf.reduce_sum(tf.mul(S, theta) - (tf.max(0,theta)+tf.log(tf.exp(tf.abs(-theta))+1)))) + config.lamda * tf.reduce_sum(tf.pow((B_code - U0), 2)),\n",
    "                    float(config.N_size*config.batch_size))\n",
    "            '''\n",
    "            u = K.sign(predicted)\n",
    "            theta = K.dot(u, K.transpose(u))/2\n",
    "            sim = K.dot(labels, K.transpose(labels))\n",
    "            loss = -K.mean(sim*theta - K.log(1+ K.exp(theta))) + \\\n",
    "                    regularization * K.mean(K.pow((u-predicted),2))\n",
    "            \n",
    "            return loss\n",
    "        \n",
    "        # we also need custom the metrics.Here we use loss as metrics\n",
    "        def metrics_func(labels,predicted):\n",
    "            return loss_func(labels, predicted)\n",
    "        \n",
    "        # construct the mode.\n",
    "        self.dpsh_model = Model(inputs=self.input, outputs=self.hash)\n",
    "        \n",
    "        #compile with custom loss\n",
    "        self.dpsh_model.compile(optimizer='adam', loss=loss_func, metrics=[metrics_func])"
   ]
  },
  {
   "cell_type": "code",
   "execution_count": 78,
   "metadata": {
    "collapsed": true
   },
   "outputs": [],
   "source": [
    "#Below are hyper parameters.\n",
    "hash_length = 48\n",
    "regularization = 60 \n",
    "cnn_model = ResNet50\n",
    "include_top=False \n",
    "input_shape=(224,224,3)\n",
    "\n",
    "dpsh = Dpsh_model(hash_length, regularization, cnn_model, include_top, input_shape)"
   ]
  },
  {
   "cell_type": "code",
   "execution_count": 82,
   "metadata": {},
   "outputs": [
    {
     "name": "stdout",
     "output_type": "stream",
     "text": [
      "_________________________________________________________________\n",
      "Layer (type)                 Output Shape              Param #   \n",
      "=================================================================\n",
      "image (InputLayer)           (None, 224, 224, 3)       0         \n",
      "_________________________________________________________________\n",
      "resnet50 (Model)             (None, 1, 1, 2048)        23587712  \n",
      "_________________________________________________________________\n",
      "dense_1 (Dense)              (None, 1, 1, 4096)        8392704   \n",
      "_________________________________________________________________\n",
      "dropout_1 (Dropout)          (None, 1, 1, 4096)        0         \n",
      "_________________________________________________________________\n",
      "reshape_1 (Reshape)          (None, 4096)              0         \n",
      "_________________________________________________________________\n",
      "hash_map (Dense)             (None, 48)                196656    \n",
      "=================================================================\n",
      "Total params: 32,177,072.0\n",
      "Trainable params: 32,123,952.0\n",
      "Non-trainable params: 53,120.0\n",
      "_________________________________________________________________\n"
     ]
    }
   ],
   "source": [
    "dpsh.dpsh_model.summary()"
   ]
  },
  {
   "cell_type": "code",
   "execution_count": 30,
   "metadata": {
    "collapsed": true
   },
   "outputs": [],
   "source": [
    "%run data_process_new.ipynb"
   ]
  },
  {
   "cell_type": "code",
   "execution_count": 31,
   "metadata": {
    "collapsed": true
   },
   "outputs": [],
   "source": [
    "data, label = get_input_and_labels()"
   ]
  },
  {
   "cell_type": "code",
   "execution_count": 34,
   "metadata": {},
   "outputs": [
    {
     "name": "stdout",
     "output_type": "stream",
     "text": [
      "(5000, 224, 224, 3) (5000, 10)\n"
     ]
    }
   ],
   "source": [
    "print(data.shape, label.shape)"
   ]
  },
  {
   "cell_type": "code",
   "execution_count": 32,
   "metadata": {
    "collapsed": true
   },
   "outputs": [],
   "source": [
    "val_data, val_label = get_input_and_labels(train=False)"
   ]
  },
  {
   "cell_type": "code",
   "execution_count": 80,
   "metadata": {
    "collapsed": true
   },
   "outputs": [],
   "source": [
    "early_stoping = EarlyStopping(monitor='val_loss', patience=1, verbose=0, mode='min')\n",
    "filepath = 'weights_new_wotop.{epoch:02d}-{val_loss:.2f}.hdf5'\n",
    "model_ckp = ModelCheckpoint(filepath, monitor='val_loss', verbose=0, save_best_only=True, save_weights_only=False, mode='min', period=1)"
   ]
  },
  {
   "cell_type": "code",
   "execution_count": null,
   "metadata": {},
   "outputs": [
    {
     "name": "stdout",
     "output_type": "stream",
     "text": [
      "Train on 5000 samples, validate on 1000 samples\n",
      "Epoch 1/15\n",
      "3532s - loss: 24.3166 - metrics_func: 24.3166 - val_loss: 44.1357 - val_metrics_func: 44.1357\n",
      "Epoch 2/15\n",
      "3513s - loss: 20.9510 - metrics_func: 20.9510 - val_loss: 22.8627 - val_metrics_func: 22.8627\n",
      "Epoch 3/15\n"
     ]
    }
   ],
   "source": [
    "hist = dpsh.dpsh_model.fit(data, label, validation_data=(val_data, val_label), epochs=15, batch_size=128, verbose=2, shuffle=False, callbacks=[early_stoping,model_ckp])"
   ]
  },
  {
   "cell_type": "code",
   "execution_count": 54,
   "metadata": {
    "collapsed": true
   },
   "outputs": [],
   "source": [
    "predicted = dpsh.dpsh_model.predict(val_data[0:20])"
   ]
  },
  {
   "cell_type": "code",
   "execution_count": 55,
   "metadata": {
    "collapsed": true
   },
   "outputs": [],
   "source": [
    "hash_c = np.sign(predicted)"
   ]
  },
  {
   "cell_type": "code",
   "execution_count": 56,
   "metadata": {},
   "outputs": [
    {
     "name": "stdout",
     "output_type": "stream",
     "text": [
      "[[ 0.  1.  0.  0.  0.  0.  0.  0.  0.  0.]\n",
      " [ 0.  0.  0.  1.  0.  0.  0.  0.  0.  0.]\n",
      " [ 0.  0.  0.  0.  0.  1.  0.  0.  0.  0.]\n",
      " [ 0.  0.  1.  0.  0.  0.  0.  0.  0.  0.]\n",
      " [ 0.  0.  0.  0.  0.  0.  0.  1.  0.  0.]\n",
      " [ 0.  0.  1.  0.  0.  0.  0.  0.  0.  0.]\n",
      " [ 0.  0.  0.  1.  0.  0.  0.  0.  0.  0.]\n",
      " [ 0.  0.  0.  0.  0.  0.  0.  1.  0.  0.]\n",
      " [ 0.  0.  1.  0.  0.  0.  0.  0.  0.  0.]\n",
      " [ 0.  0.  0.  1.  0.  0.  0.  0.  0.  0.]\n",
      " [ 0.  1.  0.  0.  0.  0.  0.  0.  0.  0.]\n",
      " [ 0.  0.  1.  0.  0.  0.  0.  0.  0.  0.]\n",
      " [ 0.  1.  0.  0.  0.  0.  0.  0.  0.  0.]\n",
      " [ 0.  0.  0.  0.  0.  0.  0.  0.  1.  0.]\n",
      " [ 0.  0.  0.  0.  0.  0.  1.  0.  0.  0.]\n",
      " [ 0.  0.  1.  0.  0.  0.  0.  0.  0.  0.]\n",
      " [ 0.  0.  0.  0.  0.  0.  0.  0.  1.  0.]\n",
      " [ 0.  0.  0.  0.  0.  0.  0.  0.  0.  1.]\n",
      " [ 0.  0.  0.  0.  0.  0.  0.  0.  0.  1.]\n",
      " [ 0.  0.  0.  0.  0.  0.  1.  0.  0.  0.]]\n"
     ]
    }
   ],
   "source": [
    "print(val_label[0:20])"
   ]
  },
  {
   "cell_type": "code",
   "execution_count": 58,
   "metadata": {},
   "outputs": [
    {
     "name": "stdout",
     "output_type": "stream",
     "text": [
      "[-1. -1. -1.  1.  1. -1. -1. -1.  1. -1. -1.  1. -1. -1.  1. -1.  1. -1.\n",
      "  1.  1. -1.  1. -1. -1. -1. -1. -1. -1.  1.  1. -1. -1. -1. -1.  1.  1.\n",
      " -1.  1.  1.  1. -1.  1.  1. -1.  1.  1.  1. -1.]\n",
      "[-1. -1. -1.  1.  1. -1. -1. -1.  1. -1. -1.  1. -1. -1.  1. -1.  1. -1.\n",
      "  1.  1. -1.  1. -1. -1. -1. -1. -1. -1.  1.  1. -1. -1. -1. -1.  1.  1.\n",
      " -1.  1.  1.  1. -1.  1.  1. -1.  1.  1.  1. -1.]\n"
     ]
    }
   ],
   "source": [
    "print(hash_c[3], )\n",
    "print(hash_c[5], )"
   ]
  },
  {
   "cell_type": "code",
   "execution_count": 59,
   "metadata": {},
   "outputs": [
    {
     "name": "stdout",
     "output_type": "stream",
     "text": [
      "[-1. -1. -1.  1.  1. -1. -1. -1.  1. -1. -1.  1. -1. -1.  1. -1.  1. -1.\n",
      "  1.  1. -1.  1. -1. -1. -1. -1. -1. -1.  1.  1. -1. -1. -1. -1.  1.  1.\n",
      " -1.  1.  1.  1. -1.  1.  1. -1.  1.  1.  1. -1.]\n"
     ]
    }
   ],
   "source": [
    "print(hash_c[0], )"
   ]
  },
  {
   "cell_type": "code",
   "execution_count": 60,
   "metadata": {},
   "outputs": [
    {
     "name": "stdout",
     "output_type": "stream",
     "text": [
      "[-1. -1. -1.  1.  1. -1. -1. -1.  1. -1. -1.  1. -1. -1.  1. -1.  1. -1.\n",
      "  1.  1. -1.  1. -1. -1. -1. -1. -1. -1.  1.  1. -1. -1. -1. -1.  1.  1.\n",
      " -1.  1.  1.  1. -1.  1.  1. -1.  1.  1.  1. -1.]\n"
     ]
    }
   ],
   "source": [
    "print(hash_c[19], )"
   ]
  },
  {
   "cell_type": "code",
   "execution_count": 64,
   "metadata": {},
   "outputs": [
    {
     "data": {
      "text/plain": [
       "array([ True,  True,  True,  True,  True,  True,  True,  True,  True,\n",
       "        True,  True,  True,  True,  True,  True,  True,  True,  True,\n",
       "        True,  True,  True,  True,  True,  True,  True,  True,  True,\n",
       "        True,  True,  True,  True,  True,  True,  True,  True,  True,\n",
       "        True,  True,  True,  True,  True,  True,  True,  True,  True,\n",
       "        True,  True,  True], dtype=bool)"
      ]
     },
     "execution_count": 64,
     "metadata": {},
     "output_type": "execute_result"
    }
   ],
   "source": [
    "hash_c[6] == hash_c[9]"
   ]
  },
  {
   "cell_type": "code",
   "execution_count": null,
   "metadata": {
    "collapsed": true
   },
   "outputs": [],
   "source": []
  }
 ],
 "metadata": {
  "kernelspec": {
   "display_name": "Python 3",
   "language": "python",
   "name": "python3"
  },
  "language_info": {
   "codemirror_mode": {
    "name": "ipython",
    "version": 3
   },
   "file_extension": ".py",
   "mimetype": "text/x-python",
   "name": "python",
   "nbconvert_exporter": "python",
   "pygments_lexer": "ipython3",
   "version": "3.5.3"
  }
 },
 "nbformat": 4,
 "nbformat_minor": 2
}
